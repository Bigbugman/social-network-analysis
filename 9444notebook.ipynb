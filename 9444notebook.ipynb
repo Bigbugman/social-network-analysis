{
  "nbformat": 4,
  "nbformat_minor": 0,
  "metadata": {
    "colab": {
      "provenance": [],
      "include_colab_link": true
    },
    "kernelspec": {
      "name": "python3",
      "display_name": "Python 3"
    },
    "language_info": {
      "name": "python"
    }
  },
  "cells": [
    {
      "cell_type": "markdown",
      "metadata": {
        "id": "view-in-github",
        "colab_type": "text"
      },
      "source": [
        "<a href=\"https://colab.research.google.com/github/Bigbugman/social-network-analysis/blob/master/9444notebook.ipynb\" target=\"_parent\"><img src=\"https://colab.research.google.com/assets/colab-badge.svg\" alt=\"Open In Colab\"/></a>"
      ]
    },
    {
      "cell_type": "code",
      "execution_count": null,
      "metadata": {
        "colab": {
          "base_uri": "https://localhost:8080/"
        },
        "id": "LTtxumOoI_m0",
        "outputId": "de4514bf-afc6-4cff-de7f-ca2d38843bc0"
      },
      "outputs": [
        {
          "output_type": "stream",
          "name": "stdout",
          "text": [
            "Cloning into 'yolov5'...\n",
            "remote: Enumerating objects: 13966, done.\u001b[K\n",
            "remote: Counting objects: 100% (157/157), done.\u001b[K\n",
            "remote: Compressing objects: 100% (86/86), done.\u001b[K\n",
            "remote: Total 13966 (delta 107), reused 98 (delta 71), pack-reused 13809\u001b[K\n",
            "Receiving objects: 100% (13966/13966), 13.58 MiB | 38.52 MiB/s, done.\n",
            "Resolving deltas: 100% (9562/9562), done.\n",
            "/content/yolov5\n",
            "\u001b[K     |████████████████████████████████| 182 kB 28.3 MB/s \n",
            "\u001b[K     |████████████████████████████████| 63 kB 1.5 MB/s \n",
            "\u001b[K     |████████████████████████████████| 1.6 MB 49.5 MB/s \n",
            "\u001b[K     |████████████████████████████████| 41 kB 619 kB/s \n",
            "\u001b[K     |████████████████████████████████| 145 kB 52.6 MB/s \n",
            "\u001b[K     |████████████████████████████████| 178 kB 88.0 MB/s \n",
            "\u001b[K     |████████████████████████████████| 138 kB 77.8 MB/s \n",
            "\u001b[K     |████████████████████████████████| 67 kB 6.1 MB/s \n",
            "\u001b[K     |████████████████████████████████| 54 kB 3.3 MB/s \n",
            "\u001b[K     |████████████████████████████████| 62 kB 1.5 MB/s \n",
            "\u001b[?25h  Building wheel for wget (setup.py) ... \u001b[?25l\u001b[?25hdone\n",
            "Setup complete. Using torch 1.12.1+cu113 (CPU)\n"
          ]
        }
      ],
      "source": [
        "#clone YOLOv5 and \n",
        "!git clone https://github.com/ultralytics/yolov5  # clone repo\n",
        "%cd yolov5\n",
        "%pip install -qr requirements.txt # install dependencies\n",
        "%pip install -q roboflow\n",
        "\n",
        "import torch\n",
        "import os\n",
        "from IPython.display import Image, clear_output  # to display images\n",
        "\n",
        "print(f\"Setup complete. Using torch {torch.__version__} ({torch.cuda.get_device_properties(0).name if torch.cuda.is_available() else 'CPU'})\")"
      ]
    },
    {
      "cell_type": "markdown",
      "source": [
        "### Problem Statement && Motivation\n"
      ],
      "metadata": {
        "id": "t10T-jk0LlIn"
      }
    },
    {
      "cell_type": "code",
      "source": [],
      "metadata": {
        "id": "j1Lwuyp5Lk7n"
      },
      "execution_count": null,
      "outputs": []
    },
    {
      "cell_type": "code",
      "source": [
        "#######"
      ],
      "metadata": {
        "id": "gyYbZDqNJ4b8"
      },
      "execution_count": null,
      "outputs": []
    }
  ]
}